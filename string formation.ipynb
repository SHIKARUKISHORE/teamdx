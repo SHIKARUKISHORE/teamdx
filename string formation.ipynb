{
 "cells": [
  {
   "cell_type": "code",
   "execution_count": null,
   "id": "39272700",
   "metadata": {},
   "outputs": [],
   "source": [
    "# The Anil kumar is a very good customer, bought 3045 sales orders from our portal. we got 20000 profit becuase of Anil kumar.\n",
    "customer_name=input(\"Enter Customer Name:\")\n",
    "#number_of_sales_orders = input(\"Enter sales orders:\")\n",
    "#profit = input(\"Enter profit\")\n",
    "s=\"The\""
   ]
  },
  {
   "cell_type": "code",
   "execution_count": 3,
   "id": "a66076bd",
   "metadata": {},
   "outputs": [
    {
     "name": "stdout",
     "output_type": "stream",
     "text": [
      "apple fruit\n"
     ]
    }
   ],
   "source": [
    "s=\"apple\"\n",
    "s1=\"fruit\"\n",
    "res=s+\" \"+s1\n",
    "print(res)"
   ]
  },
  {
   "cell_type": "code",
   "execution_count": 4,
   "id": "4dc204f8",
   "metadata": {},
   "outputs": [
    {
     "name": "stdout",
     "output_type": "stream",
     "text": [
      "Enter Customer Name:Sambasivarao\n",
      "The Sambasivarao\n"
     ]
    }
   ],
   "source": [
    "# The Anil kumar is a very good customer, bought 3045 sales orders from our portal. we got 20000 profit becuase of Anil kumar.\n",
    "customer_name=input(\"Enter Customer Name:\")\n",
    "#number_of_sales_orders = input(\"Enter sales orders:\")\n",
    "#profit = input(\"Enter profit\")\n",
    "s=\"The \"+customer_name\n",
    "print(s)"
   ]
  },
  {
   "cell_type": "code",
   "execution_count": 5,
   "id": "24f6cc7f",
   "metadata": {},
   "outputs": [
    {
     "name": "stdout",
     "output_type": "stream",
     "text": [
      "Enter Customer Name:Venkatesh\n",
      "The Venkatesh is a very good customer, bought \n"
     ]
    }
   ],
   "source": [
    "# The Anil kumar is a very good customer, bought 3045 sales orders from our portal. we got 20000 profit becuase of Anil kumar.\n",
    "customer_name=input(\"Enter Customer Name:\")\n",
    "#number_of_sales_orders = input(\"Enter sales orders:\")\n",
    "#profit = input(\"Enter profit\")\n",
    "s=\"The \"+customer_name+\" is a very good customer, bought \"\n",
    "print(s)"
   ]
  },
  {
   "cell_type": "code",
   "execution_count": 6,
   "id": "b016536a",
   "metadata": {},
   "outputs": [
    {
     "name": "stdout",
     "output_type": "stream",
     "text": [
      "Enter Customer Name:Chiranjeevi\n",
      "Enter sales orders:3456\n",
      "The Chiranjeevi is a very good customer, bought 3456\n"
     ]
    }
   ],
   "source": [
    "# The Anil kumar is a very good customer, bought 3045 sales orders from our portal. we got 20000 profit becuase of Anil kumar.\n",
    "customer_name=input(\"Enter Customer Name:\")\n",
    "number_of_sales_orders = input(\"Enter sales orders:\")\n",
    "#profit = input(\"Enter profit\")\n",
    "s=\"The \"+customer_name+\" is a very good customer, bought \"+number_of_sales_orders\n",
    "print(s)"
   ]
  },
  {
   "cell_type": "code",
   "execution_count": 7,
   "id": "2b60a9ec",
   "metadata": {},
   "outputs": [
    {
     "name": "stdout",
     "output_type": "stream",
     "text": [
      "Enter Customer Name:NTR\n",
      "Enter sales orders:2345\n",
      "The NTR is a very good customer, bought 2345 sales orders from our portal. we got \n"
     ]
    }
   ],
   "source": [
    "# The Anil kumar is a very good customer, bought 3045 sales orders from our portal. we got 20000 profit becuase of Anil kumar.\n",
    "customer_name=input(\"Enter Customer Name:\")\n",
    "number_of_sales_orders = input(\"Enter sales orders:\")\n",
    "#profit = input(\"Enter profit\")\n",
    "s=\"The \"+customer_name+\" is a very good customer, bought \"+number_of_sales_orders+\" sales orders from our portal. we got \"\n",
    "print(s)"
   ]
  },
  {
   "cell_type": "code",
   "execution_count": 8,
   "id": "57ffd6ab",
   "metadata": {},
   "outputs": [
    {
     "name": "stdout",
     "output_type": "stream",
     "text": [
      "Enter Customer Name:NagarjunA\n",
      "Enter sales orders:34567\n",
      "Enter profit342\n",
      "The NagarjunA is a very good customer, bought 34567 sales orders from our portal. we got 342\n"
     ]
    }
   ],
   "source": [
    "# The Anil kumar is a very good customer, bought 3045 sales orders from our portal. we got 20000 profit becuase of Anil kumar.\n",
    "customer_name=input(\"Enter Customer Name:\")\n",
    "number_of_sales_orders = input(\"Enter sales orders:\")\n",
    "profit = input(\"Enter profit:\")\n",
    "s=\"The \"+customer_name+\" is a very good customer, bought \"+number_of_sales_orders+\" sales orders from our portal. we got \"+profit\n",
    "print(s)"
   ]
  },
  {
   "cell_type": "code",
   "execution_count": 9,
   "id": "ffa160a1",
   "metadata": {},
   "outputs": [
    {
     "name": "stdout",
     "output_type": "stream",
     "text": [
      "Enter Customer Name:AlluArjun\n",
      "Enter sales orders:2345\n",
      "Enter profit:7890\n",
      "The AlluArjun is a very good customer, bought 2345 sales orders from our portal. we got 7890 profit becuase of AlluArjun\n"
     ]
    }
   ],
   "source": [
    "# The Anil kumar is a very good customer, bought 3045 sales orders from our portal. we got 20000 profit becuase of Anil kumar.\n",
    "customer_name=input(\"Enter Customer Name:\")\n",
    "number_of_sales_orders = input(\"Enter sales orders:\")\n",
    "profit = input(\"Enter profit:\")\n",
    "s=\"The \"+customer_name+\" is a very good customer, bought \"+number_of_sales_orders+\" sales orders from our portal. we got \"+profit+\" profit becuase of \"+customer_name+\".\"\n",
    "print(s)"
   ]
  },
  {
   "cell_type": "code",
   "execution_count": null,
   "id": "da51a628",
   "metadata": {},
   "outputs": [],
   "source": [
    "# The Anil kumar is a very good customer, bought 3045 sales orders from our portal. we got 20000 profit becuase of Anil kumar.\n",
    "customer_name=input(\"Enter Customer Name:\")\n",
    "number_of_sales_orders = input(\"Enter sales orders:\")\n",
    "profit = input(\"Enter profit:\")\n",
    "s=\"The \"+customer_name+\" is a very good customer, bought \"+number_of_sales_orders+\" sales orders from our portal. we got \"+profit+\" profit becuase of \"+customer_name+\".\"\n",
    "print(s)"
   ]
  }
 ],
 "metadata": {
  "kernelspec": {
   "display_name": "Python 3 (ipykernel)",
   "language": "python",
   "name": "python3"
  },
  "language_info": {
   "codemirror_mode": {
    "name": "ipython",
    "version": 3
   },
   "file_extension": ".py",
   "mimetype": "text/x-python",
   "name": "python",
   "nbconvert_exporter": "python",
   "pygments_lexer": "ipython3",
   "version": "3.11.3"
  }
 },
 "nbformat": 4,
 "nbformat_minor": 5
}
