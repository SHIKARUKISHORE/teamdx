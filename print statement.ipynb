{
 "cells": [
  {
   "cell_type": "code",
   "execution_count": 1,
   "id": "a8126af0",
   "metadata": {},
   "outputs": [
    {
     "name": "stdout",
     "output_type": "stream",
     "text": [
      "1000 python [1, 2, 3, 4] (10, 20, 30, 40) {56, 34, 12, 78}\n"
     ]
    }
   ],
   "source": [
    "a=1000\n",
    "b=\"python\"\n",
    "c=[1,2,3,4]\n",
    "d=(10,20,30,40)\n",
    "e={12,34,56,78}\n",
    "print(a,b,c,d,e)"
   ]
  },
  {
   "cell_type": "code",
   "execution_count": 2,
   "id": "6306b4af",
   "metadata": {},
   "outputs": [
    {
     "name": "stdout",
     "output_type": "stream",
     "text": [
      "1000#python#[1, 2, 3, 4]#(10, 20, 30, 40)#{56, 34, 12, 78}\n"
     ]
    }
   ],
   "source": [
    "a=1000\n",
    "b=\"python\"\n",
    "c=[1,2,3,4]\n",
    "d=(10,20,30,40)\n",
    "e={12,34,56,78}\n",
    "print(a,b,c,d,e,sep=\"#\")"
   ]
  },
  {
   "cell_type": "code",
   "execution_count": 3,
   "id": "2fa48352",
   "metadata": {},
   "outputs": [
    {
     "name": "stdout",
     "output_type": "stream",
     "text": [
      "1000#$python#$[1, 2, 3, 4]#$(10, 20, 30, 40)#${56, 34, 12, 78}\n"
     ]
    }
   ],
   "source": [
    "a=1000\n",
    "b=\"python\"\n",
    "c=[1,2,3,4]\n",
    "d=(10,20,30,40)\n",
    "e={12,34,56,78}\n",
    "print(a,b,c,d,e,sep=\"#$\")"
   ]
  },
  {
   "cell_type": "code",
   "execution_count": 5,
   "id": "0814aa67",
   "metadata": {},
   "outputs": [
    {
     "name": "stdout",
     "output_type": "stream",
     "text": [
      "1000\n",
      "python\n",
      "[1, 2, 3, 4]\n",
      "(10, 20, 30, 40)\n",
      "{56, 34, 12, 78}\n"
     ]
    }
   ],
   "source": [
    "a=1000\n",
    "b=\"python\"\n",
    "c=[1,2,3,4]\n",
    "d=(10,20,30,40)\n",
    "e={12,34,56,78}\n",
    "print(a,b,c,d,e,sep=\"\\n\")"
   ]
  },
  {
   "cell_type": "code",
   "execution_count": 6,
   "id": "39b9b5d9",
   "metadata": {},
   "outputs": [
    {
     "name": "stdout",
     "output_type": "stream",
     "text": [
      "5\n"
     ]
    }
   ],
   "source": [
    "s=\"hello\"\n",
    "print(len(s))"
   ]
  },
  {
   "cell_type": "code",
   "execution_count": 7,
   "id": "132394d9",
   "metadata": {},
   "outputs": [
    {
     "name": "stdout",
     "output_type": "stream",
     "text": [
      "1\n"
     ]
    }
   ],
   "source": [
    "s=\"\\n\"\n",
    "print(len(s))"
   ]
  },
  {
   "cell_type": "code",
   "execution_count": 8,
   "id": "7ab83a30",
   "metadata": {},
   "outputs": [
    {
     "name": "stdout",
     "output_type": "stream",
     "text": [
      "1000\n",
      "python\n",
      "[1, 2, 3, 4]\n",
      "(10, 20, 30, 40)\n",
      "{56, 34, 12, 78}\n",
      "1000 python [1, 2, 3, 4] (10, 20, 30, 40) {56, 34, 12, 78}\n"
     ]
    }
   ],
   "source": [
    "a=1000\n",
    "b=\"python\"\n",
    "c=[1,2,3,4]\n",
    "d=(10,20,30,40)\n",
    "e={12,34,56,78}\n",
    "print(a,b,c,d,e,sep=\"\\n\")\n",
    "print(a,b,c,d,e)"
   ]
  },
  {
   "cell_type": "code",
   "execution_count": 9,
   "id": "9361cbb6",
   "metadata": {},
   "outputs": [
    {
     "name": "stdout",
     "output_type": "stream",
     "text": [
      "1000\n",
      "python\n",
      "[1, 2, 3, 4]\n",
      "(10, 20, 30, 40)\n",
      "{56, 34, 12, 78}\n"
     ]
    }
   ],
   "source": [
    "a=1000\n",
    "b=\"python\"\n",
    "c=[1,2,3,4]\n",
    "d=(10,20,30,40)\n",
    "e={12,34,56,78}\n",
    "print(a)\n",
    "print(b)\n",
    "print(c)\n",
    "print(d)\n",
    "print(e)"
   ]
  },
  {
   "cell_type": "code",
   "execution_count": 10,
   "id": "6fe8085a",
   "metadata": {},
   "outputs": [
    {
     "name": "stdout",
     "output_type": "stream",
     "text": [
      "1000,python\n",
      "[1, 2, 3, 4]\n",
      "(10, 20, 30, 40)\n",
      "{56, 34, 12, 78}\n"
     ]
    }
   ],
   "source": [
    "a=1000\n",
    "b=\"python\"\n",
    "c=[1,2,3,4]\n",
    "d=(10,20,30,40)\n",
    "e={12,34,56,78}\n",
    "print(a, end=\",\")\n",
    "print(b)\n",
    "print(c)\n",
    "print(d)\n",
    "print(e)"
   ]
  },
  {
   "cell_type": "code",
   "execution_count": 11,
   "id": "e9654909",
   "metadata": {},
   "outputs": [
    {
     "name": "stdout",
     "output_type": "stream",
     "text": [
      "1000,python#[1, 2, 3, 4]$(10, 20, 30, 40)\n",
      "{56, 34, 12, 78}\n"
     ]
    }
   ],
   "source": [
    "a=1000\n",
    "b=\"python\"\n",
    "c=[1,2,3,4]\n",
    "d=(10,20,30,40)\n",
    "e={12,34,56,78}\n",
    "print(a, end=\",\")\n",
    "print(b, end=\"#\")\n",
    "print(c,end=\"$\")\n",
    "print(d)\n",
    "print(e)"
   ]
  },
  {
   "cell_type": "code",
   "execution_count": null,
   "id": "56f5404f",
   "metadata": {},
   "outputs": [],
   "source": []
  }
 ],
 "metadata": {
  "kernelspec": {
   "display_name": "Python 3 (ipykernel)",
   "language": "python",
   "name": "python3"
  },
  "language_info": {
   "codemirror_mode": {
    "name": "ipython",
    "version": 3
   },
   "file_extension": ".py",
   "mimetype": "text/x-python",
   "name": "python",
   "nbconvert_exporter": "python",
   "pygments_lexer": "ipython3",
   "version": "3.11.3"
  }
 },
 "nbformat": 4,
 "nbformat_minor": 5
}
