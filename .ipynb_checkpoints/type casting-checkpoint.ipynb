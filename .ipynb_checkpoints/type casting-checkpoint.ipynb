{
 "cells": [
  {
   "cell_type": "code",
   "execution_count": 1,
   "id": "cabd6d9b",
   "metadata": {},
   "outputs": [
    {
     "name": "stdout",
     "output_type": "stream",
     "text": [
      "1020\n"
     ]
    }
   ],
   "source": [
    "a=\"10\"\n",
    "b=\"20\"\n",
    "print(a+b)"
   ]
  },
  {
   "cell_type": "code",
   "execution_count": 2,
   "id": "562a175e",
   "metadata": {},
   "outputs": [
    {
     "name": "stdout",
     "output_type": "stream",
     "text": [
      "30\n"
     ]
    }
   ],
   "source": [
    "a=\"10\"\n",
    "b=\"20\"\n",
    "a=int(a)\n",
    "b=int(b)\n",
    "print(a+b)"
   ]
  },
  {
   "cell_type": "code",
   "execution_count": 3,
   "id": "8d377942",
   "metadata": {},
   "outputs": [
    {
     "name": "stdout",
     "output_type": "stream",
     "text": [
      "6.666666666666667\n"
     ]
    }
   ],
   "source": [
    "#*,/,//,%\n",
    "a=20\n",
    "b=3\n",
    "print(a/b)"
   ]
  },
  {
   "cell_type": "code",
   "execution_count": 4,
   "id": "524c1482",
   "metadata": {},
   "outputs": [
    {
     "name": "stdout",
     "output_type": "stream",
     "text": [
      "6\n"
     ]
    }
   ],
   "source": [
    "#*,/,//,%\n",
    "a=20\n",
    "b=3\n",
    "print(a//b)"
   ]
  },
  {
   "cell_type": "code",
   "execution_count": 5,
   "id": "726aaaaa",
   "metadata": {},
   "outputs": [
    {
     "name": "stdout",
     "output_type": "stream",
     "text": [
      "2\n"
     ]
    }
   ],
   "source": [
    "#*,/,//,%\n",
    "a=20\n",
    "b=3\n",
    "print(a%b)"
   ]
  },
  {
   "cell_type": "code",
   "execution_count": 6,
   "id": "6ca0e32f",
   "metadata": {},
   "outputs": [
    {
     "name": "stdout",
     "output_type": "stream",
     "text": [
      "12\n"
     ]
    }
   ],
   "source": [
    "a=12.34\n",
    "print(int(a))"
   ]
  },
  {
   "cell_type": "code",
   "execution_count": 7,
   "id": "1e5322a4",
   "metadata": {},
   "outputs": [
    {
     "name": "stdout",
     "output_type": "stream",
     "text": [
      "1234 <class 'str'>\n",
      "1234 <class 'int'>\n"
     ]
    }
   ],
   "source": [
    "a=\"1234\"\n",
    "print(a, type(a))\n",
    "b=int(a)\n",
    "print(b, type(b))"
   ]
  },
  {
   "cell_type": "code",
   "execution_count": 8,
   "id": "afa409a7",
   "metadata": {},
   "outputs": [
    {
     "name": "stdout",
     "output_type": "stream",
     "text": [
      "1234 <class 'str'>\n",
      "1234.0 <class 'float'>\n"
     ]
    }
   ],
   "source": [
    "a=\"1234\"\n",
    "print(a, type(a))\n",
    "b=float(a)\n",
    "print(b, type(b))"
   ]
  },
  {
   "cell_type": "code",
   "execution_count": 9,
   "id": "d518cc55",
   "metadata": {},
   "outputs": [
    {
     "name": "stdout",
     "output_type": "stream",
     "text": [
      "10 <class 'int'>\n",
      "10 <class 'str'>\n"
     ]
    }
   ],
   "source": [
    "a=10\n",
    "print(a, type(a))\n",
    "b=str(a)\n",
    "print(b, type(b))"
   ]
  },
  {
   "cell_type": "code",
   "execution_count": 10,
   "id": "fb09d42b",
   "metadata": {},
   "outputs": [
    {
     "name": "stdout",
     "output_type": "stream",
     "text": [
      "python <class 'str'>\n",
      "['p', 'y', 't', 'h', 'o', 'n'] <class 'list'>\n"
     ]
    }
   ],
   "source": [
    "s=\"python\"\n",
    "print(s, type(s))\n",
    "s1=list(s)\n",
    "print(s1, type(s1))"
   ]
  },
  {
   "cell_type": "code",
   "execution_count": 11,
   "id": "fc769cf7",
   "metadata": {},
   "outputs": [
    {
     "name": "stdout",
     "output_type": "stream",
     "text": [
      "python <class 'str'>\n",
      "('p', 'y', 't', 'h', 'o', 'n') <class 'tuple'>\n"
     ]
    }
   ],
   "source": [
    "s=\"python\"\n",
    "print(s, type(s))\n",
    "s1=tuple(s)\n",
    "print(s1, type(s1))"
   ]
  },
  {
   "cell_type": "code",
   "execution_count": 12,
   "id": "f81ed213",
   "metadata": {},
   "outputs": [
    {
     "ename": "TypeError",
     "evalue": "'int' object is not iterable",
     "output_type": "error",
     "traceback": [
      "\u001b[1;31m---------------------------------------------------------------------------\u001b[0m",
      "\u001b[1;31mTypeError\u001b[0m                                 Traceback (most recent call last)",
      "Cell \u001b[1;32mIn[12], line 2\u001b[0m\n\u001b[0;32m      1\u001b[0m a\u001b[38;5;241m=\u001b[39m\u001b[38;5;241m1000\u001b[39m\n\u001b[1;32m----> 2\u001b[0m \u001b[38;5;28mprint\u001b[39m(\u001b[38;5;28mlist\u001b[39m(a))\n",
      "\u001b[1;31mTypeError\u001b[0m: 'int' object is not iterable"
     ]
    }
   ],
   "source": [
    "a=1000\n",
    "print(list(a))"
   ]
  },
  {
   "cell_type": "code",
   "execution_count": 13,
   "id": "00bc0758",
   "metadata": {},
   "outputs": [
    {
     "ename": "ValueError",
     "evalue": "invalid literal for int() with base 10: '12a'",
     "output_type": "error",
     "traceback": [
      "\u001b[1;31m---------------------------------------------------------------------------\u001b[0m",
      "\u001b[1;31mValueError\u001b[0m                                Traceback (most recent call last)",
      "Cell \u001b[1;32mIn[13], line 2\u001b[0m\n\u001b[0;32m      1\u001b[0m a\u001b[38;5;241m=\u001b[39m\u001b[38;5;124m\"\u001b[39m\u001b[38;5;124m12a\u001b[39m\u001b[38;5;124m\"\u001b[39m\n\u001b[1;32m----> 2\u001b[0m b\u001b[38;5;241m=\u001b[39m\u001b[38;5;28mint\u001b[39m(a)\n\u001b[0;32m      3\u001b[0m \u001b[38;5;28mprint\u001b[39m(b)\n",
      "\u001b[1;31mValueError\u001b[0m: invalid literal for int() with base 10: '12a'"
     ]
    }
   ],
   "source": [
    "a=\"12a\"\n",
    "b=int(a)\n",
    "print(b)"
   ]
  },
  {
   "cell_type": "code",
   "execution_count": 14,
   "id": "acaed3b3",
   "metadata": {},
   "outputs": [
    {
     "name": "stdout",
     "output_type": "stream",
     "text": [
      "298\n"
     ]
    }
   ],
   "source": [
    "a=\"12a\"\n",
    "b=int(a, 16)\n",
    "print(b)"
   ]
  },
  {
   "cell_type": "code",
   "execution_count": 15,
   "id": "4c8fcf4a",
   "metadata": {},
   "outputs": [
    {
     "name": "stdout",
     "output_type": "stream",
     "text": [
      "12\n",
      "12\n"
     ]
    }
   ],
   "source": [
    "# number systems\n",
    "\"\"\"\n",
    "binary: 2(0,1)\n",
    "octo: 8(0,1,2,3,4,5,6,7)\n",
    "decimal: 10(0,1,2,3,4,5,6,7,8,9)\n",
    "hexa decimal: 16(0,1,2,3,4,5,6,7,8,9,a,b,c,d,e,f)\n",
    "\"\"\"\n",
    "print(int(\"12\"))\n",
    "print(2*10**0+1*10**1)"
   ]
  },
  {
   "cell_type": "code",
   "execution_count": 16,
   "id": "2a2a7ba8",
   "metadata": {},
   "outputs": [
    {
     "name": "stdout",
     "output_type": "stream",
     "text": [
      "10\n",
      "10\n"
     ]
    }
   ],
   "source": [
    "# number systems\n",
    "\"\"\"\n",
    "binary: 2(0,1)\n",
    "octo: 8(0,1,2,3,4,5,6,7)\n",
    "decimal: 10(0,1,2,3,4,5,6,7,8,9)\n",
    "hexa decimal: 16(0,1,2,3,4,5,6,7,8,9,a,b,c,d,e,f)\n",
    "\"\"\"\n",
    "print(int(\"12\", 8))\n",
    "print(2*8**0+1*8**1)"
   ]
  },
  {
   "cell_type": "code",
   "execution_count": 17,
   "id": "926ced1c",
   "metadata": {},
   "outputs": [
    {
     "name": "stdout",
     "output_type": "stream",
     "text": [
      "4831\n",
      "4831\n"
     ]
    }
   ],
   "source": [
    "# number systems\n",
    "\"\"\"\n",
    "binary: 2(0,1)\n",
    "octo: 8(0,1,2,3,4,5,6,7)\n",
    "decimal: 10(0,1,2,3,4,5,6,7,8,9)\n",
    "hexa decimal: 16(0,1,2,3,4,5,6,7,8,9,a,b,c,d,e,f)\n",
    "\"\"\"\n",
    "print(int(\"12df\", 16))\n",
    "print(15*16**0+13*16**1+2*16**2+1*16**3)"
   ]
  },
  {
   "cell_type": "code",
   "execution_count": 18,
   "id": "10145bc7",
   "metadata": {},
   "outputs": [
    {
     "ename": "ValueError",
     "evalue": "invalid literal for int() with base 12: '12df'",
     "output_type": "error",
     "traceback": [
      "\u001b[1;31m---------------------------------------------------------------------------\u001b[0m",
      "\u001b[1;31mValueError\u001b[0m                                Traceback (most recent call last)",
      "Cell \u001b[1;32mIn[18], line 8\u001b[0m\n\u001b[0;32m      1\u001b[0m \u001b[38;5;66;03m# number systems\u001b[39;00m\n\u001b[0;32m      2\u001b[0m \u001b[38;5;124;03m\"\"\"\u001b[39;00m\n\u001b[0;32m      3\u001b[0m \u001b[38;5;124;03mbinary: 2(0,1)\u001b[39;00m\n\u001b[0;32m      4\u001b[0m \u001b[38;5;124;03mocto: 8(0,1,2,3,4,5,6,7)\u001b[39;00m\n\u001b[0;32m      5\u001b[0m \u001b[38;5;124;03mdecimal: 10(0,1,2,3,4,5,6,7,8,9)\u001b[39;00m\n\u001b[0;32m      6\u001b[0m \u001b[38;5;124;03mhexa decimal: 16(0,1,2,3,4,5,6,7,8,9,a,b,c,d,e,f)\u001b[39;00m\n\u001b[0;32m      7\u001b[0m \u001b[38;5;124;03m\"\"\"\u001b[39;00m\n\u001b[1;32m----> 8\u001b[0m \u001b[38;5;28mprint\u001b[39m(\u001b[38;5;28mint\u001b[39m(\u001b[38;5;124m\"\u001b[39m\u001b[38;5;124m12df\u001b[39m\u001b[38;5;124m\"\u001b[39m, \u001b[38;5;241m12\u001b[39m))\n",
      "\u001b[1;31mValueError\u001b[0m: invalid literal for int() with base 12: '12df'"
     ]
    }
   ],
   "source": [
    "# number systems\n",
    "\"\"\"\n",
    "binary: 2(0,1)\n",
    "octo: 8(0,1,2,3,4,5,6,7)\n",
    "decimal: 10(0,1,2,3,4,5,6,7,8,9)\n",
    "hexa decimal: 16(0,1,2,3,4,5,6,7,8,9,a,b,c,d,e,f)\n",
    "\"\"\"\n",
    "print(int(\"12df\", 12))"
   ]
  },
  {
   "cell_type": "code",
   "execution_count": 19,
   "id": "7be45337",
   "metadata": {},
   "outputs": [
    {
     "name": "stdout",
     "output_type": "stream",
     "text": [
      "97375\n"
     ]
    }
   ],
   "source": [
    "# number systems\n",
    "\"\"\"\n",
    "binary: 2(0,1)\n",
    "octo: 8(0,1,2,3,4,5,6,7)\n",
    "decimal: 10(0,1,2,3,4,5,6,7,8,9)\n",
    "hexa decimal: 16(0,1,2,3,4,5,6,7,8,9,a,b,c,d,e,f)\n",
    "\"\"\"\n",
    "print(int(\"12dfg\", 17))"
   ]
  },
  {
   "cell_type": "code",
   "execution_count": 20,
   "id": "9ea68289",
   "metadata": {},
   "outputs": [
    {
     "name": "stdout",
     "output_type": "stream",
     "text": [
      "97375\n",
      "97375\n"
     ]
    }
   ],
   "source": [
    "# number systems\n",
    "\"\"\"\n",
    "binary: 2(0,1)\n",
    "octo: 8(0,1,2,3,4,5,6,7)\n",
    "decimal: 10(0,1,2,3,4,5,6,7,8,9)\n",
    "hexa decimal: 16(0,1,2,3,4,5,6,7,8,9,a,b,c,d,e,f)\n",
    "\"\"\"\n",
    "print(int(\"12dfg\", 17))\n",
    "print(16*17**0+15*17**1+13*17**2+2*17**3+1*17**4)"
   ]
  },
  {
   "cell_type": "code",
   "execution_count": 22,
   "id": "08786e3e",
   "metadata": {},
   "outputs": [
    {
     "name": "stdout",
     "output_type": "stream",
     "text": [
      "97375\n",
      "97375\n"
     ]
    }
   ],
   "source": [
    "# number systems\n",
    "\"\"\"\n",
    "binary: 2(0,1)\n",
    "octo: 8(0,1,2,3,4,5,6,7)\n",
    "decimal: 10(0,1,2,3,4,5,6,7,8,9)\n",
    "hexa decimal: 16(0,1,2,3,4,5,6,7,8,9,a,b,c,d,e,f)\n",
    "\"\"\"\n",
    "print(int(\"12DFG\", 17))\n",
    "print(16*17**0+15*17**1+13*17**2+2*17**3+1*17**4)"
   ]
  },
  {
   "cell_type": "code",
   "execution_count": 23,
   "id": "f3c1eef8",
   "metadata": {},
   "outputs": [
    {
     "data": {
      "text/plain": [
       "35"
      ]
     },
     "execution_count": 23,
     "metadata": {},
     "output_type": "execute_result"
    }
   ],
   "source": [
    "9+26"
   ]
  },
  {
   "cell_type": "code",
   "execution_count": 26,
   "id": "55dca085",
   "metadata": {},
   "outputs": [
    {
     "name": "stdout",
     "output_type": "stream",
     "text": [
      "1602859\n"
     ]
    }
   ],
   "source": [
    "# number systems\n",
    "\"\"\"\n",
    "binary: 2(0,1)\n",
    "octo: 8(0,1,2,3,4,5,6,7)\n",
    "decimal: 10(0,1,2,3,4,5,6,7,8,9)\n",
    "hexa decimal: 16(0,1,2,3,4,5,6,7,8,9,a,b,c,d,e,f)\n",
    "\"\"\"\n",
    "print(int(\"12DFy\", 35))"
   ]
  },
  {
   "cell_type": "code",
   "execution_count": 27,
   "id": "f5b260ff",
   "metadata": {},
   "outputs": [
    {
     "ename": "ValueError",
     "evalue": "int() base must be >= 2 and <= 36, or 0",
     "output_type": "error",
     "traceback": [
      "\u001b[1;31m---------------------------------------------------------------------------\u001b[0m",
      "\u001b[1;31mValueError\u001b[0m                                Traceback (most recent call last)",
      "Cell \u001b[1;32mIn[27], line 8\u001b[0m\n\u001b[0;32m      1\u001b[0m \u001b[38;5;66;03m# number systems\u001b[39;00m\n\u001b[0;32m      2\u001b[0m \u001b[38;5;124;03m\"\"\"\u001b[39;00m\n\u001b[0;32m      3\u001b[0m \u001b[38;5;124;03mbinary: 2(0,1)\u001b[39;00m\n\u001b[0;32m      4\u001b[0m \u001b[38;5;124;03mocto: 8(0,1,2,3,4,5,6,7)\u001b[39;00m\n\u001b[0;32m      5\u001b[0m \u001b[38;5;124;03mdecimal: 10(0,1,2,3,4,5,6,7,8,9)\u001b[39;00m\n\u001b[0;32m      6\u001b[0m \u001b[38;5;124;03mhexa decimal: 16(0,1,2,3,4,5,6,7,8,9,a,b,c,d,e,f)\u001b[39;00m\n\u001b[0;32m      7\u001b[0m \u001b[38;5;124;03m\"\"\"\u001b[39;00m\n\u001b[1;32m----> 8\u001b[0m \u001b[38;5;28mprint\u001b[39m(\u001b[38;5;28mint\u001b[39m(\u001b[38;5;124m\"\u001b[39m\u001b[38;5;124m12DFz\u001b[39m\u001b[38;5;124m\"\u001b[39m, \u001b[38;5;241m50\u001b[39m))\n",
      "\u001b[1;31mValueError\u001b[0m: int() base must be >= 2 and <= 36, or 0"
     ]
    }
   ],
   "source": [
    "# number systems\n",
    "\"\"\"\n",
    "binary: 2(0,1)\n",
    "octo: 8(0,1,2,3,4,5,6,7)\n",
    "decimal: 10(0,1,2,3,4,5,6,7,8,9)\n",
    "hexa decimal: 16(0,1,2,3,4,5,6,7,8,9,a,b,c,d,e,f)\n",
    "\"\"\"\n",
    "print(int(\"12DFz\", 50))"
   ]
  },
  {
   "cell_type": "code",
   "execution_count": 28,
   "id": "3c9e2176",
   "metadata": {},
   "outputs": [
    {
     "name": "stdout",
     "output_type": "stream",
     "text": [
      "1790351\n"
     ]
    }
   ],
   "source": [
    "# number systems\n",
    "\"\"\"\n",
    "binary: 2(0,1)\n",
    "octo: 8(0,1,2,3,4,5,6,7)\n",
    "decimal: 10(0,1,2,3,4,5,6,7,8,9)\n",
    "hexa decimal: 16(0,1,2,3,4,5,6,7,8,9,a,b,c,d,e,f)\n",
    "\"\"\"\n",
    "print(int(\"12DFz\", 36))"
   ]
  },
  {
   "cell_type": "code",
   "execution_count": 29,
   "id": "e0d740da",
   "metadata": {},
   "outputs": [
    {
     "name": "stdout",
     "output_type": "stream",
     "text": [
      "12\n"
     ]
    }
   ],
   "source": [
    "a=12.34\n",
    "print(int(a))"
   ]
  },
  {
   "cell_type": "code",
   "execution_count": 30,
   "id": "44b83c0f",
   "metadata": {},
   "outputs": [
    {
     "ename": "ValueError",
     "evalue": "invalid literal for int() with base 10: '12.34'",
     "output_type": "error",
     "traceback": [
      "\u001b[1;31m---------------------------------------------------------------------------\u001b[0m",
      "\u001b[1;31mValueError\u001b[0m                                Traceback (most recent call last)",
      "Cell \u001b[1;32mIn[30], line 2\u001b[0m\n\u001b[0;32m      1\u001b[0m a\u001b[38;5;241m=\u001b[39m\u001b[38;5;124m\"\u001b[39m\u001b[38;5;124m12.34\u001b[39m\u001b[38;5;124m\"\u001b[39m\n\u001b[1;32m----> 2\u001b[0m \u001b[38;5;28mprint\u001b[39m(\u001b[38;5;28mint\u001b[39m(a))\n",
      "\u001b[1;31mValueError\u001b[0m: invalid literal for int() with base 10: '12.34'"
     ]
    }
   ],
   "source": [
    "a=\"12.34\"\n",
    "print(int(a))"
   ]
  },
  {
   "cell_type": "code",
   "execution_count": 31,
   "id": "1651f826",
   "metadata": {},
   "outputs": [
    {
     "name": "stdout",
     "output_type": "stream",
     "text": [
      "12\n"
     ]
    }
   ],
   "source": [
    "a=\"12\"\n",
    "print(int(a))"
   ]
  },
  {
   "cell_type": "code",
   "execution_count": 32,
   "id": "8f07ae50",
   "metadata": {},
   "outputs": [
    {
     "ename": "ValueError",
     "evalue": "invalid literal for int() with base 10: '12.34'",
     "output_type": "error",
     "traceback": [
      "\u001b[1;31m---------------------------------------------------------------------------\u001b[0m",
      "\u001b[1;31mValueError\u001b[0m                                Traceback (most recent call last)",
      "Cell \u001b[1;32mIn[32], line 2\u001b[0m\n\u001b[0;32m      1\u001b[0m a\u001b[38;5;241m=\u001b[39m\u001b[38;5;124m\"\u001b[39m\u001b[38;5;124m12.34\u001b[39m\u001b[38;5;124m\"\u001b[39m\n\u001b[1;32m----> 2\u001b[0m \u001b[38;5;28mprint\u001b[39m(\u001b[38;5;28mint\u001b[39m(a))\n",
      "\u001b[1;31mValueError\u001b[0m: invalid literal for int() with base 10: '12.34'"
     ]
    }
   ],
   "source": [
    "a=\"12.34\"\n",
    "print(int(a))\n"
   ]
  },
  {
   "cell_type": "code",
   "execution_count": 33,
   "id": "26fc9e0f",
   "metadata": {},
   "outputs": [],
   "source": [
    "a=\"12.34\"\n",
    "print(int(a))\n",
    "print(4*10**0+3*10**1+)"
   ]
  },
  {
   "cell_type": "code",
   "execution_count": 34,
   "id": "56a2aeb0",
   "metadata": {},
   "outputs": [
    {
     "name": "stdout",
     "output_type": "stream",
     "text": [
      "12.34 <class 'float'>\n"
     ]
    }
   ],
   "source": [
    "a=\"12.34\"\n",
    "b=float(a)\n",
    "print(b, type(b))"
   ]
  },
  {
   "cell_type": "code",
   "execution_count": 36,
   "id": "aa215ba6",
   "metadata": {},
   "outputs": [
    {
     "name": "stdout",
     "output_type": "stream",
     "text": [
      "12\n"
     ]
    }
   ],
   "source": [
    "a=\"12.34\"\n",
    "b=int(float(a))\n",
    "print(b)"
   ]
  },
  {
   "cell_type": "code",
   "execution_count": null,
   "id": "d23f0f5f",
   "metadata": {},
   "outputs": [],
   "source": []
  }
 ],
 "metadata": {
  "kernelspec": {
   "display_name": "Python 3 (ipykernel)",
   "language": "python",
   "name": "python3"
  },
  "language_info": {
   "codemirror_mode": {
    "name": "ipython",
    "version": 3
   },
   "file_extension": ".py",
   "mimetype": "text/x-python",
   "name": "python",
   "nbconvert_exporter": "python",
   "pygments_lexer": "ipython3",
   "version": "3.11.3"
  }
 },
 "nbformat": 4,
 "nbformat_minor": 5
}
