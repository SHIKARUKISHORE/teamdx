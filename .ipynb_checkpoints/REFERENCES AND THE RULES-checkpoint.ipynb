{
 "cells": [
  {
   "cell_type": "code",
   "execution_count": 1,
   "id": "a18e31e1",
   "metadata": {},
   "outputs": [],
   "source": [
    "a=1000"
   ]
  },
  {
   "cell_type": "code",
   "execution_count": 2,
   "id": "18b86586",
   "metadata": {},
   "outputs": [],
   "source": [
    "# Reference name should be userfriendly\n",
    "a=\"APPLE\""
   ]
  },
  {
   "cell_type": "code",
   "execution_count": 3,
   "id": "770b9d12",
   "metadata": {},
   "outputs": [],
   "source": [
    "name=\"APPLE\""
   ]
  },
  {
   "cell_type": "code",
   "execution_count": 4,
   "id": "8e6e6c9d",
   "metadata": {},
   "outputs": [],
   "source": [
    "fruitname=\"APPLE\""
   ]
  },
  {
   "cell_type": "code",
   "execution_count": 6,
   "id": "b25a1daa",
   "metadata": {},
   "outputs": [
    {
     "ename": "SyntaxError",
     "evalue": "invalid syntax (641418973.py, line 2)",
     "output_type": "error",
     "traceback": [
      "\u001b[1;36m  Cell \u001b[1;32mIn[6], line 2\u001b[1;36m\u001b[0m\n\u001b[1;33m    fruit name=\"APPLE\"\u001b[0m\n\u001b[1;37m          ^\u001b[0m\n\u001b[1;31mSyntaxError\u001b[0m\u001b[1;31m:\u001b[0m invalid syntax\n"
     ]
    }
   ],
   "source": [
    "# can space is allowed in the reference name?\n",
    "fruit name=\"APPLE\""
   ]
  },
  {
   "cell_type": "code",
   "execution_count": 7,
   "id": "ed3ed231",
   "metadata": {},
   "outputs": [],
   "source": [
    "# what are the special symbols can allow in the reference name?\n",
    "fruit_name=\"APPLE\""
   ]
  },
  {
   "cell_type": "code",
   "execution_count": 8,
   "id": "f00d2f83",
   "metadata": {},
   "outputs": [],
   "source": [
    "fruitname=\"APPLE\""
   ]
  },
  {
   "cell_type": "code",
   "execution_count": 10,
   "id": "01ad85e1",
   "metadata": {},
   "outputs": [
    {
     "name": "stdout",
     "output_type": "stream",
     "text": [
      "APPLE\n",
      "ORANGE\n"
     ]
    }
   ],
   "source": [
    "# REference names are case sensitive or case insensitive?\n",
    "fruit_name=\"APPLE\"\n",
    "FRUIT_name=\"ORANGE\"\n",
    "print(fruit_name)\n",
    "print(FRUIT_name)"
   ]
  },
  {
   "cell_type": "code",
   "execution_count": 12,
   "id": "2ff8f1e4",
   "metadata": {},
   "outputs": [],
   "source": [
    "# do we need to write our reference names in small or capital letters?\n",
    "# which case we need to follow?\n",
    "# every organization follows certain rules or reference names\n"
   ]
  },
  {
   "cell_type": "code",
   "execution_count": 13,
   "id": "ecf58824",
   "metadata": {},
   "outputs": [],
   "source": [
    "# all references(variable, constant/hard coded, module, function, class)\n",
    "# vatriable should be always in small letters\n",
    "# constant/hard coded should be always in capital letters\n",
    "# function: if the name has more than one word: we can follow camelcase(addTwoNumbers)\n",
    "#class: capital case: (CustomerPayments)"
   ]
  },
  {
   "cell_type": "code",
   "execution_count": 14,
   "id": "bb89cdf7",
   "metadata": {},
   "outputs": [],
   "source": [
    "a=1000# hard coded value"
   ]
  },
  {
   "cell_type": "code",
   "execution_count": 15,
   "id": "5eafff70",
   "metadata": {},
   "outputs": [],
   "source": [
    "# can I use numbers in reference names"
   ]
  },
  {
   "cell_type": "code",
   "execution_count": 16,
   "id": "83cf3dae",
   "metadata": {},
   "outputs": [
    {
     "ename": "SyntaxError",
     "evalue": "invalid decimal literal (3778520496.py, line 1)",
     "output_type": "error",
     "traceback": [
      "\u001b[1;36m  Cell \u001b[1;32mIn[16], line 1\u001b[1;36m\u001b[0m\n\u001b[1;33m    1fruitname=\"APPLE\"\u001b[0m\n\u001b[1;37m    ^\u001b[0m\n\u001b[1;31mSyntaxError\u001b[0m\u001b[1;31m:\u001b[0m invalid decimal literal\n"
     ]
    }
   ],
   "source": [
    "1fruitname=\"APPLE\""
   ]
  },
  {
   "cell_type": "code",
   "execution_count": 17,
   "id": "29cf264f",
   "metadata": {},
   "outputs": [],
   "source": [
    "fruitname1=\"APPLE\""
   ]
  },
  {
   "cell_type": "code",
   "execution_count": 18,
   "id": "fa4f7163",
   "metadata": {},
   "outputs": [],
   "source": [
    "fruit1name1=\"APPLE\""
   ]
  },
  {
   "cell_type": "code",
   "execution_count": 19,
   "id": "74487079",
   "metadata": {},
   "outputs": [
    {
     "ename": "SyntaxError",
     "evalue": "invalid syntax (1752884239.py, line 1)",
     "output_type": "error",
     "traceback": [
      "\u001b[1;36m  Cell \u001b[1;32mIn[19], line 1\u001b[1;36m\u001b[0m\n\u001b[1;33m    if=\"APPLE\"\u001b[0m\n\u001b[1;37m      ^\u001b[0m\n\u001b[1;31mSyntaxError\u001b[0m\u001b[1;31m:\u001b[0m invalid syntax\n"
     ]
    }
   ],
   "source": [
    "if=\"APPLE\""
   ]
  },
  {
   "cell_type": "code",
   "execution_count": 20,
   "id": "84b0073d",
   "metadata": {},
   "outputs": [
    {
     "ename": "NameError",
     "evalue": "name 'apple' is not defined",
     "output_type": "error",
     "traceback": [
      "\u001b[1;31m---------------------------------------------------------------------------\u001b[0m",
      "\u001b[1;31mNameError\u001b[0m                                 Traceback (most recent call last)",
      "Cell \u001b[1;32mIn[20], line 2\u001b[0m\n\u001b[0;32m      1\u001b[0m \u001b[38;5;66;03m# what do you mean by in built word. reserved?\u001b[39;00m\n\u001b[1;32m----> 2\u001b[0m \u001b[38;5;28mprint\u001b[39m(apple)\n",
      "\u001b[1;31mNameError\u001b[0m: name 'apple' is not defined"
     ]
    }
   ],
   "source": [
    "# what do you mean by in built word. reserved?\n",
    "print(apple)"
   ]
  },
  {
   "cell_type": "code",
   "execution_count": 21,
   "id": "56712c4e",
   "metadata": {},
   "outputs": [
    {
     "name": "stdout",
     "output_type": "stream",
     "text": [
      "apple\n"
     ]
    }
   ],
   "source": [
    "print(\"apple\")"
   ]
  },
  {
   "cell_type": "code",
   "execution_count": 22,
   "id": "5366d021",
   "metadata": {},
   "outputs": [
    {
     "name": "stdout",
     "output_type": "stream",
     "text": [
      "apple\n"
     ]
    }
   ],
   "source": [
    "print('apple')"
   ]
  },
  {
   "cell_type": "code",
   "execution_count": 23,
   "id": "faeea539",
   "metadata": {},
   "outputs": [
    {
     "name": "stdout",
     "output_type": "stream",
     "text": [
      "ORANGE\n"
     ]
    }
   ],
   "source": [
    "apple=\"ORANGE\"\n",
    "print(apple)"
   ]
  },
  {
   "cell_type": "code",
   "execution_count": 24,
   "id": "ad3cca55",
   "metadata": {},
   "outputs": [
    {
     "ename": "NameError",
     "evalue": "name 'true' is not defined",
     "output_type": "error",
     "traceback": [
      "\u001b[1;31m---------------------------------------------------------------------------\u001b[0m",
      "\u001b[1;31mNameError\u001b[0m                                 Traceback (most recent call last)",
      "Cell \u001b[1;32mIn[24], line 1\u001b[0m\n\u001b[1;32m----> 1\u001b[0m \u001b[38;5;28mprint\u001b[39m(true)\n",
      "\u001b[1;31mNameError\u001b[0m: name 'true' is not defined"
     ]
    }
   ],
   "source": [
    "print(true)"
   ]
  },
  {
   "cell_type": "code",
   "execution_count": 25,
   "id": "77ca2474",
   "metadata": {},
   "outputs": [
    {
     "name": "stdout",
     "output_type": "stream",
     "text": [
      "True\n"
     ]
    }
   ],
   "source": [
    "print(True)# when you started python process, it will load some objects in to memory(RAM)."
   ]
  },
  {
   "cell_type": "code",
   "execution_count": 26,
   "id": "676c7209",
   "metadata": {},
   "outputs": [
    {
     "ename": "NameError",
     "evalue": "name 'Apple' is not defined",
     "output_type": "error",
     "traceback": [
      "\u001b[1;31m---------------------------------------------------------------------------\u001b[0m",
      "\u001b[1;31mNameError\u001b[0m                                 Traceback (most recent call last)",
      "Cell \u001b[1;32mIn[26], line 1\u001b[0m\n\u001b[1;32m----> 1\u001b[0m \u001b[38;5;28mprint\u001b[39m(Apple)\n",
      "\u001b[1;31mNameError\u001b[0m: name 'Apple' is not defined"
     ]
    }
   ],
   "source": [
    "print(Apple)"
   ]
  },
  {
   "cell_type": "code",
   "execution_count": 27,
   "id": "3d90c54f",
   "metadata": {},
   "outputs": [
    {
     "name": "stdout",
     "output_type": "stream",
     "text": [
      "None\n"
     ]
    }
   ],
   "source": [
    "print(None)"
   ]
  },
  {
   "cell_type": "code",
   "execution_count": 28,
   "id": "1cb41549",
   "metadata": {},
   "outputs": [
    {
     "ename": "NameError",
     "evalue": "name 'none' is not defined",
     "output_type": "error",
     "traceback": [
      "\u001b[1;31m---------------------------------------------------------------------------\u001b[0m",
      "\u001b[1;31mNameError\u001b[0m                                 Traceback (most recent call last)",
      "Cell \u001b[1;32mIn[28], line 1\u001b[0m\n\u001b[1;32m----> 1\u001b[0m \u001b[38;5;28mprint\u001b[39m(none)\n",
      "\u001b[1;31mNameError\u001b[0m: name 'none' is not defined"
     ]
    }
   ],
   "source": [
    "print(none)"
   ]
  },
  {
   "cell_type": "code",
   "execution_count": 29,
   "id": "f035a091",
   "metadata": {},
   "outputs": [
    {
     "ename": "NameError",
     "evalue": "name 'null' is not defined",
     "output_type": "error",
     "traceback": [
      "\u001b[1;31m---------------------------------------------------------------------------\u001b[0m",
      "\u001b[1;31mNameError\u001b[0m                                 Traceback (most recent call last)",
      "Cell \u001b[1;32mIn[29], line 1\u001b[0m\n\u001b[1;32m----> 1\u001b[0m \u001b[38;5;28mprint\u001b[39m(null)\n",
      "\u001b[1;31mNameError\u001b[0m: name 'null' is not defined"
     ]
    }
   ],
   "source": [
    "print(null)"
   ]
  },
  {
   "cell_type": "code",
   "execution_count": 30,
   "id": "db35ae97",
   "metadata": {},
   "outputs": [
    {
     "name": "stdout",
     "output_type": "stream",
     "text": [
      "A fruit\n",
      "An orange\n"
     ]
    }
   ],
   "source": [
    "apple=\"A fruit\"\n",
    "print(apple)\n",
    "apple=\"An orange\"\n",
    "print(apple)"
   ]
  },
  {
   "cell_type": "code",
   "execution_count": 31,
   "id": "b378e3fe",
   "metadata": {},
   "outputs": [
    {
     "name": "stdout",
     "output_type": "stream",
     "text": [
      "True\n"
     ]
    }
   ],
   "source": [
    "print(True)"
   ]
  },
  {
   "cell_type": "code",
   "execution_count": 32,
   "id": "3a6596d3",
   "metadata": {},
   "outputs": [
    {
     "ename": "SyntaxError",
     "evalue": "cannot assign to True (201811720.py, line 1)",
     "output_type": "error",
     "traceback": [
      "\u001b[1;36m  Cell \u001b[1;32mIn[32], line 1\u001b[1;36m\u001b[0m\n\u001b[1;33m    True=\"SOMETHING\"\u001b[0m\n\u001b[1;37m    ^\u001b[0m\n\u001b[1;31mSyntaxError\u001b[0m\u001b[1;31m:\u001b[0m cannot assign to True\n"
     ]
    }
   ],
   "source": [
    "True=\"SOMETHING\"\n",
    "print(True)"
   ]
  },
  {
   "cell_type": "code",
   "execution_count": 33,
   "id": "316ab3e2",
   "metadata": {},
   "outputs": [
    {
     "ename": "SyntaxError",
     "evalue": "cannot assign to None (374004186.py, line 1)",
     "output_type": "error",
     "traceback": [
      "\u001b[1;36m  Cell \u001b[1;32mIn[33], line 1\u001b[1;36m\u001b[0m\n\u001b[1;33m    None=\"APPLE\"\u001b[0m\n\u001b[1;37m    ^\u001b[0m\n\u001b[1;31mSyntaxError\u001b[0m\u001b[1;31m:\u001b[0m cannot assign to None\n"
     ]
    }
   ],
   "source": [
    "None=\"APPLE\""
   ]
  },
  {
   "cell_type": "code",
   "execution_count": 34,
   "id": "7d00048f",
   "metadata": {},
   "outputs": [],
   "source": [
    "Apple=\"sdfadsf\""
   ]
  },
  {
   "cell_type": "code",
   "execution_count": 36,
   "id": "f311a19e",
   "metadata": {},
   "outputs": [],
   "source": [
    "import keyword"
   ]
  },
  {
   "cell_type": "code",
   "execution_count": 38,
   "id": "24d79417",
   "metadata": {},
   "outputs": [
    {
     "name": "stdout",
     "output_type": "stream",
     "text": [
      "['False', 'None', 'True', 'and', 'as', 'assert', 'async', 'await', 'break', 'class', 'continue', 'def', 'del', 'elif', 'else', 'except', 'finally', 'for', 'from', 'global', 'if', 'import', 'in', 'is', 'lambda', 'nonlocal', 'not', 'or', 'pass', 'raise', 'return', 'try', 'while', 'with', 'yield']\n"
     ]
    }
   ],
   "source": [
    "print(keyword.kwlist)"
   ]
  },
  {
   "cell_type": "code",
   "execution_count": null,
   "id": "3419ae7f",
   "metadata": {},
   "outputs": [],
   "source": []
  }
 ],
 "metadata": {
  "kernelspec": {
   "display_name": "Python 3 (ipykernel)",
   "language": "python",
   "name": "python3"
  },
  "language_info": {
   "codemirror_mode": {
    "name": "ipython",
    "version": 3
   },
   "file_extension": ".py",
   "mimetype": "text/x-python",
   "name": "python",
   "nbconvert_exporter": "python",
   "pygments_lexer": "ipython3",
   "version": "3.11.3"
  }
 },
 "nbformat": 4,
 "nbformat_minor": 5
}
