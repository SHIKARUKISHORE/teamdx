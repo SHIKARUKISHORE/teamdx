{
 "cells": [
  {
   "cell_type": "code",
   "execution_count": 1,
   "id": "2e68b311",
   "metadata": {},
   "outputs": [
    {
     "name": "stdout",
     "output_type": "stream",
     "text": [
      "3000\n"
     ]
    }
   ],
   "source": [
    "a=1000\n",
    "b=2000\n",
    "print(a+b)"
   ]
  },
  {
   "cell_type": "code",
   "execution_count": 2,
   "id": "b073203a",
   "metadata": {},
   "outputs": [
    {
     "name": "stdout",
     "output_type": "stream",
     "text": [
      "Enter a value:1000\n",
      "Enter b value:2000\n",
      "10002000\n"
     ]
    }
   ],
   "source": [
    "a=input(\"Enter a value:\")\n",
    "b=input(\"Enter b value:\")\n",
    "print(a+b)"
   ]
  },
  {
   "cell_type": "code",
   "execution_count": 3,
   "id": "2dc6f0a1",
   "metadata": {},
   "outputs": [
    {
     "name": "stdout",
     "output_type": "stream",
     "text": [
      "Enter a value:1000\n",
      "1000 <class 'str'>\n"
     ]
    }
   ],
   "source": [
    "a=input(\"Enter a value:\")\n",
    "print(a, type(a))"
   ]
  },
  {
   "cell_type": "code",
   "execution_count": 4,
   "id": "67475ddf",
   "metadata": {},
   "outputs": [
    {
     "name": "stdout",
     "output_type": "stream",
     "text": [
      "Enter a value:dfjksjdfkljdsf\n",
      "dfjksjdfkljdsf <class 'str'>\n"
     ]
    }
   ],
   "source": [
    "a=input(\"Enter a value:\")\n",
    "print(a, type(a))"
   ]
  },
  {
   "cell_type": "code",
   "execution_count": 5,
   "id": "9776a40b",
   "metadata": {},
   "outputs": [
    {
     "name": "stdout",
     "output_type": "stream",
     "text": [
      "Enter a value:[1,2,3,4]\n",
      "[1,2,3,4] <class 'str'>\n"
     ]
    }
   ],
   "source": [
    "a=input(\"Enter a value:\")\n",
    "print(a, type(a))"
   ]
  },
  {
   "cell_type": "code",
   "execution_count": 6,
   "id": "c175bf5e",
   "metadata": {},
   "outputs": [
    {
     "name": "stdout",
     "output_type": "stream",
     "text": [
      "Enter a value:(1,2,3,4)\n",
      "(1,2,3,4) <class 'str'>\n"
     ]
    }
   ],
   "source": [
    "a=input(\"Enter a value:\")\n",
    "print(a, type(a))"
   ]
  },
  {
   "cell_type": "code",
   "execution_count": 7,
   "id": "cb58b3b0",
   "metadata": {},
   "outputs": [
    {
     "name": "stdout",
     "output_type": "stream",
     "text": [
      "Enter a value:{1,2,3,4}\n",
      "{1,2,3,4} <class 'str'>\n"
     ]
    }
   ],
   "source": [
    "a=input(\"Enter a value:\")\n",
    "print(a, type(a))"
   ]
  },
  {
   "cell_type": "code",
   "execution_count": 8,
   "id": "19e8ba6b",
   "metadata": {},
   "outputs": [
    {
     "name": "stdout",
     "output_type": "stream",
     "text": [
      "[1,2,3,4] <class 'str'>\n",
      "(1,2,3,4) <class 'str'>\n",
      "{1,2,3,4} <class 'str'>\n"
     ]
    }
   ],
   "source": [
    "a=\"[1,2,3,4]\"\n",
    "print(a, type(a))\n",
    "b='(1,2,3,4)'\n",
    "print(b, type(b))\n",
    "c=\"{1,2,3,4}\"\n",
    "print(c, type(c))"
   ]
  },
  {
   "cell_type": "code",
   "execution_count": 9,
   "id": "f9fc4e5b",
   "metadata": {},
   "outputs": [
    {
     "name": "stdout",
     "output_type": "stream",
     "text": [
      "Enter a value:1234\n",
      "1234 <class 'str'>\n"
     ]
    }
   ],
   "source": [
    "a=input(\"Enter a value:\")\n",
    "print(a, type(a))"
   ]
  },
  {
   "cell_type": "code",
   "execution_count": 10,
   "id": "6ec75ce8",
   "metadata": {},
   "outputs": [
    {
     "name": "stdout",
     "output_type": "stream",
     "text": [
      "Enter a value:1000\n",
      "1000 <class 'str'>\n",
      "Enter b value:20\n",
      "20 <class 'str'>\n",
      "100020\n",
      "1000 <class 'int'>\n",
      "20 <class 'int'>\n",
      "1020\n"
     ]
    }
   ],
   "source": [
    "a=input(\"Enter a value:\")\n",
    "print(a, type(a))\n",
    "b=input(\"Enter b value:\")\n",
    "print(b, type(b))\n",
    "res1=a+b# concatenation\n",
    "print(res1)\n",
    "a=int(a)\n",
    "b=int(b)\n",
    "print(a, type(a))\n",
    "print(b, type(b))\n",
    "res=a+b# summation\n",
    "print(res)"
   ]
  },
  {
   "cell_type": "code",
   "execution_count": null,
   "id": "7a7e6972",
   "metadata": {},
   "outputs": [],
   "source": []
  }
 ],
 "metadata": {
  "kernelspec": {
   "display_name": "Python 3 (ipykernel)",
   "language": "python",
   "name": "python3"
  },
  "language_info": {
   "codemirror_mode": {
    "name": "ipython",
    "version": 3
   },
   "file_extension": ".py",
   "mimetype": "text/x-python",
   "name": "python",
   "nbconvert_exporter": "python",
   "pygments_lexer": "ipython3",
   "version": "3.11.3"
  }
 },
 "nbformat": 4,
 "nbformat_minor": 5
}
