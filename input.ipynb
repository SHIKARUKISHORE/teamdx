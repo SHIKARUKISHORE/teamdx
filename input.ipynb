{
 "cells": [
  {
   "cell_type": "code",
   "execution_count": 1,
   "id": "9563bcf8",
   "metadata": {},
   "outputs": [
    {
     "name": "stdout",
     "output_type": "stream",
     "text": [
      "3000\n"
     ]
    }
   ],
   "source": [
    "a=1000\n",
    "b=2000\n",
    "print(a+b)"
   ]
  },
  {
   "cell_type": "code",
   "execution_count": 2,
   "id": "abe5ba6c",
   "metadata": {},
   "outputs": [
    {
     "name": "stdout",
     "output_type": "stream",
     "text": [
      "Enter a value:1000\n",
      "Enter b value:2000\n",
      "10002000\n"
     ]
    }
   ],
   "source": [
    "a=input(\"Enter a value:\")\n",
    "b=input(\"Enter b value:\")\n",
    "print(a+b)"
   ]
  },
  {
   "cell_type": "code",
   "execution_count": 3,
   "id": "495c78ce",
   "metadata": {},
   "outputs": [
    {
     "name": "stdout",
     "output_type": "stream",
     "text": [
      "Enter a value:1000\n",
      "1000 <class 'str'>\n"
     ]
    }
   ],
   "source": [
    "a=input(\"Enter a value:\")\n",
    "print(a, type(a))"
   ]
  },
  {
   "cell_type": "code",
   "execution_count": 4,
   "id": "3d1cf373",
   "metadata": {},
   "outputs": [
    {
     "name": "stdout",
     "output_type": "stream",
     "text": [
      "Enter a value:dfjksjdfkljdsf\n",
      "dfjksjdfkljdsf <class 'str'>\n"
     ]
    }
   ],
   "source": [
    "a=input(\"Enter a value:\")\n",
    "print(a, type(a))"
   ]
  },
  {
   "cell_type": "code",
   "execution_count": 5,
   "id": "325db0fb",
   "metadata": {},
   "outputs": [
    {
     "name": "stdout",
     "output_type": "stream",
     "text": [
      "Enter a value:[1,2,3,4]\n",
      "[1,2,3,4] <class 'str'>\n"
     ]
    }
   ],
   "source": [
    "a=input(\"Enter a value:\")\n",
    "print(a, type(a))"
   ]
  },
  {
   "cell_type": "code",
   "execution_count": 6,
   "id": "2a403903",
   "metadata": {},
   "outputs": [
    {
     "name": "stdout",
     "output_type": "stream",
     "text": [
      "Enter a value:(1,2,3,4)\n",
      "(1,2,3,4) <class 'str'>\n"
     ]
    }
   ],
   "source": [
    "a=input(\"Enter a value:\")\n",
    "print(a, type(a))"
   ]
  },
  {
   "cell_type": "code",
   "execution_count": 7,
   "id": "f1ab6493",
   "metadata": {},
   "outputs": [
    {
     "name": "stdout",
     "output_type": "stream",
     "text": [
      "Enter a value:{1,2,3,4}\n",
      "{1,2,3,4} <class 'str'>\n"
     ]
    }
   ],
   "source": [
    "a=input(\"Enter a value:\")\n",
    "print(a, type(a))"
   ]
  },
  {
   "cell_type": "code",
   "execution_count": 8,
   "id": "a60ef145",
   "metadata": {},
   "outputs": [
    {
     "name": "stdout",
     "output_type": "stream",
     "text": [
      "[1,2,3,4] <class 'str'>\n",
      "(1,2,3,4) <class 'str'>\n",
      "{1,2,3,4} <class 'str'>\n"
     ]
    }
   ],
   "source": [
    "a=\"[1,2,3,4]\"\n",
    "print(a, type(a))\n",
    "b='(1,2,3,4)'\n",
    "print(b, type(b))\n",
    "c=\"{1,2,3,4}\"\n",
    "print(c, type(c))"
   ]
  },
  {
   "cell_type": "code",
   "execution_count": 9,
   "id": "1d922d5a",
   "metadata": {},
   "outputs": [
    {
     "name": "stdout",
     "output_type": "stream",
     "text": [
      "Enter a value:1234\n",
      "1234 <class 'str'>\n"
     ]
    }
   ],
   "source": [
    "a=input(\"Enter a value:\")\n",
    "print(a, type(a))"
   ]
  },
  {
   "cell_type": "code",
   "execution_count": 10,
   "id": "a56c9afc",
   "metadata": {},
   "outputs": [
    {
     "name": "stdout",
     "output_type": "stream",
     "text": [
      "Enter a value:1000\n",
      "1000 <class 'str'>\n",
      "Enter b value:20\n",
      "20 <class 'str'>\n",
      "100020\n",
      "1000 <class 'int'>\n",
      "20 <class 'int'>\n",
      "1020\n"
     ]
    }
   ],
   "source": [
    "a=input(\"Enter a value:\")\n",
    "print(a, type(a))\n",
    "b=input(\"Enter b value:\")\n",
    "print(b, type(b))\n",
    "res1=a+b# concatenation\n",
    "print(res1)\n",
    "a=int(a)\n",
    "b=int(b)\n",
    "print(a, type(a))\n",
    "print(b, type(b))\n",
    "res=a+b# summation\n",
    "print(res)"
   ]
  },
  {
   "cell_type": "code",
   "execution_count": 11,
   "id": "9b21af8e",
   "metadata": {},
   "outputs": [
    {
     "name": "stdout",
     "output_type": "stream",
     "text": [
      "Enter number 1:12\n",
      "Enter number 2:34\n",
      "46\n",
      "-22\n",
      "408\n",
      "0.35294117647058826\n",
      "0\n",
      "12\n"
     ]
    }
   ],
   "source": [
    "# take two numners from the user and do all arithmatic operations(+,-,*,/,//,%)\n",
    "number1=input(\"Enter number 1:\")\n",
    "number2=input(\"Enter number 2:\")\n",
    "number1=int(number1)\n",
    "number2=int(number2)\n",
    "print(number1+number2)\n",
    "print(number1-number2)\n",
    "print(number1*number2)\n",
    "print(number1/number2)\n",
    "print(number1//number2)\n",
    "print(number1%number2)"
   ]
  },
  {
   "cell_type": "code",
   "execution_count": 12,
   "id": "5faa2ee5",
   "metadata": {},
   "outputs": [
    {
     "name": "stdout",
     "output_type": "stream",
     "text": [
      "Enter number 1:12.34\n",
      "Enter number 2:56\n"
     ]
    },
    {
     "ename": "ValueError",
     "evalue": "invalid literal for int() with base 10: '12.34'",
     "output_type": "error",
     "traceback": [
      "\u001b[1;31m---------------------------------------------------------------------------\u001b[0m",
      "\u001b[1;31mValueError\u001b[0m                                Traceback (most recent call last)",
      "Cell \u001b[1;32mIn[12], line 4\u001b[0m\n\u001b[0;32m      2\u001b[0m number1\u001b[38;5;241m=\u001b[39m\u001b[38;5;28minput\u001b[39m(\u001b[38;5;124m\"\u001b[39m\u001b[38;5;124mEnter number 1:\u001b[39m\u001b[38;5;124m\"\u001b[39m)\n\u001b[0;32m      3\u001b[0m number2\u001b[38;5;241m=\u001b[39m\u001b[38;5;28minput\u001b[39m(\u001b[38;5;124m\"\u001b[39m\u001b[38;5;124mEnter number 2:\u001b[39m\u001b[38;5;124m\"\u001b[39m)\n\u001b[1;32m----> 4\u001b[0m number1\u001b[38;5;241m=\u001b[39m\u001b[38;5;28mint\u001b[39m(number1)\n\u001b[0;32m      5\u001b[0m number2\u001b[38;5;241m=\u001b[39m\u001b[38;5;28mint\u001b[39m(number2)\n\u001b[0;32m      6\u001b[0m \u001b[38;5;28mprint\u001b[39m(number1\u001b[38;5;241m+\u001b[39mnumber2)\n",
      "\u001b[1;31mValueError\u001b[0m: invalid literal for int() with base 10: '12.34'"
     ]
    }
   ],
   "source": [
    "# take two numners from the user and do all arithmatic operations(+,-,*,/,//,%)\n",
    "number1=input(\"Enter number 1:\")\n",
    "number2=input(\"Enter number 2:\")\n",
    "number1=int(number1)\n",
    "number2=int(number2)\n",
    "print(number1+number2)\n",
    "print(number1-number2)\n",
    "print(number1*number2)\n",
    "print(number1/number2)\n",
    "print(number1//number2)\n",
    "print(number1%number2)"
   ]
  },
  {
   "cell_type": "code",
   "execution_count": 13,
   "id": "2564240b",
   "metadata": {},
   "outputs": [
    {
     "name": "stdout",
     "output_type": "stream",
     "text": [
      "Enter number 1:12.34\n",
      "Enter number 2:56\n",
      "68.34\n",
      "-43.66\n",
      "691.04\n",
      "0.22035714285714286\n",
      "0.0\n",
      "12.34\n"
     ]
    }
   ],
   "source": [
    "# take two numners from the user and do all arithmatic operations(+,-,*,/,//,%)\n",
    "number1=input(\"Enter number 1:\")\n",
    "number2=input(\"Enter number 2:\")\n",
    "number1=float(number1)\n",
    "number2=float(number2)\n",
    "print(number1+number2)\n",
    "print(number1-number2)\n",
    "print(number1*number2)\n",
    "print(number1/number2)\n",
    "print(number1//number2)\n",
    "print(number1%number2)"
   ]
  },
  {
   "cell_type": "code",
   "execution_count": 14,
   "id": "9cbab8e7",
   "metadata": {},
   "outputs": [
    {
     "name": "stdout",
     "output_type": "stream",
     "text": [
      "Enter number 1:12.34\n",
      "Enter number 2:34\n",
      "46.34\n",
      "-21.66\n",
      "419.56\n",
      "0.3629411764705882\n",
      "0.0\n",
      "12.34\n"
     ]
    }
   ],
   "source": [
    "# take two numners from the user and do all arithmatic operations(+,-,*,/,//,%)\n",
    "number1=float(input(\"Enter number 1:\"))#\"12.34\", float(\"12.34\")\n",
    "number2=float(input(\"Enter number 2:\"))\n",
    "print(number1+number2)\n",
    "print(number1-number2)\n",
    "print(number1*number2)\n",
    "print(number1/number2)\n",
    "print(number1//number2)\n",
    "print(number1%number2)"
   ]
  },
  {
   "cell_type": "code",
   "execution_count": 15,
   "id": "acab52bc",
   "metadata": {},
   "outputs": [
    {
     "name": "stdout",
     "output_type": "stream",
     "text": [
      "Enter number 1:12\n",
      "Enter number 2:34.56\n",
      "1234.56\n"
     ]
    },
    {
     "ename": "TypeError",
     "evalue": "unsupported operand type(s) for -: 'str' and 'str'",
     "output_type": "error",
     "traceback": [
      "\u001b[1;31m---------------------------------------------------------------------------\u001b[0m",
      "\u001b[1;31mTypeError\u001b[0m                                 Traceback (most recent call last)",
      "Cell \u001b[1;32mIn[15], line 5\u001b[0m\n\u001b[0;32m      3\u001b[0m number2\u001b[38;5;241m=\u001b[39m\u001b[38;5;28minput\u001b[39m(\u001b[38;5;124m\"\u001b[39m\u001b[38;5;124mEnter number 2:\u001b[39m\u001b[38;5;124m\"\u001b[39m)\n\u001b[0;32m      4\u001b[0m \u001b[38;5;28mprint\u001b[39m(number1\u001b[38;5;241m+\u001b[39mnumber2)\n\u001b[1;32m----> 5\u001b[0m \u001b[38;5;28mprint\u001b[39m(number1\u001b[38;5;241m-\u001b[39mnumber2)\n\u001b[0;32m      6\u001b[0m \u001b[38;5;28mprint\u001b[39m(number1\u001b[38;5;241m*\u001b[39mnumber2)\n\u001b[0;32m      7\u001b[0m \u001b[38;5;28mprint\u001b[39m(number1\u001b[38;5;241m/\u001b[39mnumber2)\n",
      "\u001b[1;31mTypeError\u001b[0m: unsupported operand type(s) for -: 'str' and 'str'"
     ]
    }
   ],
   "source": [
    "# take two numners from the user and do all arithmatic operations(+,-,*,/,//,%)\n",
    "number1=input(\"Enter number 1:\")\n",
    "number2=input(\"Enter number 2:\")\n",
    "print(number1+number2)\n",
    "print(number1-number2)\n",
    "print(number1*number2)\n",
    "print(number1/number2)\n",
    "print(number1//number2)\n",
    "print(number1%number2)"
   ]
  },
  {
   "cell_type": "code",
   "execution_count": null,
   "id": "5281f35d",
   "metadata": {},
   "outputs": [],
   "source": []
  }
 ],
 "metadata": {
  "kernelspec": {
   "display_name": "Python 3 (ipykernel)",
   "language": "python",
   "name": "python3"
  },
  "language_info": {
   "codemirror_mode": {
    "name": "ipython",
    "version": 3
   },
   "file_extension": ".py",
   "mimetype": "text/x-python",
   "name": "python",
   "nbconvert_exporter": "python",
   "pygments_lexer": "ipython3",
   "version": "3.11.3"
  }
 },
 "nbformat": 4,
 "nbformat_minor": 5
}
